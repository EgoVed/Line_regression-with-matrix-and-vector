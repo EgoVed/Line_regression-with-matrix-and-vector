{
 "cells": [
  {
   "cell_type": "markdown",
   "metadata": {},
   "source": [
    "Вам нужно защитить данные клиентов страховой компании. Надо разработать такой метод преобразования данных, чтобы по ним было сложно восстановить персональную информацию. Обосновать корректность его работы.\n",
    "\n",
    "Нужно защитить данные, чтобы при преобразовании качество моделей машинного обучения не ухудшилось."
   ]
  },
  {
   "cell_type": "markdown",
   "metadata": {},
   "source": [
    "## 1. Загрузка данных"
   ]
  },
  {
   "cell_type": "code",
   "execution_count": 1,
   "metadata": {},
   "outputs": [],
   "source": [
    "import pandas as pd\n",
    "import numpy as np\n",
    "from sklearn.metrics import r2_score\n",
    "import matplotlib.pyplot as plt\n"
   ]
  },
  {
   "cell_type": "code",
   "execution_count": 2,
   "metadata": {},
   "outputs": [],
   "source": [
    "df=pd.read_csv('/datasets/insurance.csv')"
   ]
  },
  {
   "cell_type": "code",
   "execution_count": 3,
   "metadata": {},
   "outputs": [
    {
     "data": {
      "text/html": [
       "<div>\n",
       "<style scoped>\n",
       "    .dataframe tbody tr th:only-of-type {\n",
       "        vertical-align: middle;\n",
       "    }\n",
       "\n",
       "    .dataframe tbody tr th {\n",
       "        vertical-align: top;\n",
       "    }\n",
       "\n",
       "    .dataframe thead th {\n",
       "        text-align: right;\n",
       "    }\n",
       "</style>\n",
       "<table border=\"1\" class=\"dataframe\">\n",
       "  <thead>\n",
       "    <tr style=\"text-align: right;\">\n",
       "      <th></th>\n",
       "      <th>Пол</th>\n",
       "      <th>Возраст</th>\n",
       "      <th>Зарплата</th>\n",
       "      <th>Члены семьи</th>\n",
       "      <th>Страховые выплаты</th>\n",
       "    </tr>\n",
       "  </thead>\n",
       "  <tbody>\n",
       "    <tr>\n",
       "      <td>0</td>\n",
       "      <td>1</td>\n",
       "      <td>41.0</td>\n",
       "      <td>49600.0</td>\n",
       "      <td>1</td>\n",
       "      <td>0</td>\n",
       "    </tr>\n",
       "    <tr>\n",
       "      <td>1</td>\n",
       "      <td>0</td>\n",
       "      <td>46.0</td>\n",
       "      <td>38000.0</td>\n",
       "      <td>1</td>\n",
       "      <td>1</td>\n",
       "    </tr>\n",
       "    <tr>\n",
       "      <td>2</td>\n",
       "      <td>0</td>\n",
       "      <td>29.0</td>\n",
       "      <td>21000.0</td>\n",
       "      <td>0</td>\n",
       "      <td>0</td>\n",
       "    </tr>\n",
       "    <tr>\n",
       "      <td>3</td>\n",
       "      <td>0</td>\n",
       "      <td>21.0</td>\n",
       "      <td>41700.0</td>\n",
       "      <td>2</td>\n",
       "      <td>0</td>\n",
       "    </tr>\n",
       "    <tr>\n",
       "      <td>4</td>\n",
       "      <td>1</td>\n",
       "      <td>28.0</td>\n",
       "      <td>26100.0</td>\n",
       "      <td>0</td>\n",
       "      <td>0</td>\n",
       "    </tr>\n",
       "  </tbody>\n",
       "</table>\n",
       "</div>"
      ],
      "text/plain": [
       "   Пол  Возраст  Зарплата  Члены семьи  Страховые выплаты\n",
       "0    1     41.0   49600.0            1                  0\n",
       "1    0     46.0   38000.0            1                  1\n",
       "2    0     29.0   21000.0            0                  0\n",
       "3    0     21.0   41700.0            2                  0\n",
       "4    1     28.0   26100.0            0                  0"
      ]
     },
     "execution_count": 3,
     "metadata": {},
     "output_type": "execute_result"
    }
   ],
   "source": [
    "df.head()"
   ]
  },
  {
   "cell_type": "code",
   "execution_count": 4,
   "metadata": {},
   "outputs": [],
   "source": [
    "df.to_csv('insurance.csv')"
   ]
  },
  {
   "cell_type": "code",
   "execution_count": 5,
   "metadata": {},
   "outputs": [
    {
     "name": "stdout",
     "output_type": "stream",
     "text": [
      "<class 'pandas.core.frame.DataFrame'>\n",
      "RangeIndex: 5000 entries, 0 to 4999\n",
      "Data columns (total 5 columns):\n",
      "Пол                  5000 non-null int64\n",
      "Возраст              5000 non-null float64\n",
      "Зарплата             5000 non-null float64\n",
      "Члены семьи          5000 non-null int64\n",
      "Страховые выплаты    5000 non-null int64\n",
      "dtypes: float64(2), int64(3)\n",
      "memory usage: 195.4 KB\n"
     ]
    }
   ],
   "source": [
    "df.info()"
   ]
  },
  {
   "cell_type": "markdown",
   "metadata": {},
   "source": [
    "Данные состроят из 5000 строк и 5 признаков. Пропусков нет. Типы данных в порядке. Предобработка не нужна. Целевой признак - \"Страховые выплаты\". "
   ]
  },
  {
   "cell_type": "markdown",
   "metadata": {},
   "source": [
    "## 2. Умножение матриц"
   ]
  },
  {
   "cell_type": "markdown",
   "metadata": {},
   "source": [
    "Обозначения:\n",
    "\n",
    "- $X$ — матрица признаков (нулевой столбец состоит из единиц)\n",
    "\n",
    "- $y$ — вектор целевого признака\n",
    "\n",
    "- $P$ — матрица, на которую умножаются признаки\n",
    "\n",
    "- $w$ — вектор весов линейной регрессии (нулевой элемент равен сдвигу)"
   ]
  },
  {
   "cell_type": "markdown",
   "metadata": {},
   "source": [
    "Предсказания:\n",
    "\n",
    "$$\n",
    "a = Xw\n",
    "$$\n",
    "\n",
    "Задача обучения:\n",
    "\n",
    "$$\n",
    "w = \\arg\\min_w MSE(Xw, y)\n",
    "$$\n",
    "\n",
    "Формула обучения:\n",
    "\n",
    "$$\n",
    "w = (X^T X)^{-1} X^T y\n",
    "$$"
   ]
  },
  {
   "cell_type": "code",
   "execution_count": 6,
   "metadata": {},
   "outputs": [],
   "source": [
    "# Готовим целевой признак и признаки\n",
    "features=df.drop(['Страховые выплаты'],axis=1)\n",
    "target=df['Страховые выплаты']"
   ]
  },
  {
   "cell_type": "code",
   "execution_count": 7,
   "metadata": {},
   "outputs": [
    {
     "data": {
      "text/plain": [
       "(5000, 4)"
      ]
     },
     "execution_count": 7,
     "metadata": {},
     "output_type": "execute_result"
    }
   ],
   "source": [
    "features.shape"
   ]
  },
  {
   "cell_type": "code",
   "execution_count": 8,
   "metadata": {},
   "outputs": [
    {
     "data": {
      "text/plain": [
       "(5000,)"
      ]
     },
     "execution_count": 8,
     "metadata": {},
     "output_type": "execute_result"
    }
   ],
   "source": [
    "target.shape"
   ]
  },
  {
   "cell_type": "code",
   "execution_count": 116,
   "metadata": {},
   "outputs": [],
   "source": [
    "state = np.random.RandomState(12345)"
   ]
  },
  {
   "cell_type": "code",
   "execution_count": 122,
   "metadata": {},
   "outputs": [
    {
     "data": {
      "text/plain": [
       "(4, 4)"
      ]
     },
     "execution_count": 122,
     "metadata": {},
     "output_type": "execute_result"
    }
   ],
   "source": [
    "# Формирую случайными равномерно распределнными значениями обратиму матрицу 4х4\n",
    "inv_rand_matrix=np.random.normal(size=(features.shape[1],features.shape[1]))\n",
    "inv_rand_matrix.shape"
   ]
  },
  {
   "cell_type": "code",
   "execution_count": 123,
   "metadata": {},
   "outputs": [
    {
     "data": {
      "text/plain": [
       "array([[-0.10671327,  0.05189762, -0.39358786, -1.16208205],\n",
       "       [-0.48869268, -0.41727505,  0.28254824, -0.84233516],\n",
       "       [-0.43798894, -1.74977534, -0.42161085,  0.60993947],\n",
       "       [ 0.93341622,  0.33397146, -0.20384075,  1.33279925]])"
      ]
     },
     "execution_count": 123,
     "metadata": {},
     "output_type": "execute_result"
    }
   ],
   "source": [
    "# \n",
    "inv_rand_matrix "
   ]
  },
  {
   "cell_type": "markdown",
   "metadata": {},
   "source": [
    "<span Способ RandomState для np</span>"
   ]
  },
  {
   "cell_type": "code",
   "execution_count": 20,
   "metadata": {},
   "outputs": [
    {
     "data": {
      "text/plain": [
       "array([[-0.20470766,  0.47894334, -0.51943872, -0.5557303 ],\n",
       "       [ 1.96578057,  1.39340583,  0.09290788,  0.28174615],\n",
       "       [ 0.76902257,  1.24643474,  1.00718936, -1.29622111],\n",
       "       [ 0.27499163,  0.22891288,  1.35291684,  0.88642934]])"
      ]
     },
     "execution_count": 20,
     "metadata": {},
     "output_type": "execute_result"
    }
   ],
   "source": [
    "# Формирую случайными равномерно распределнными значениями обратиму матрицу 4х4\n",
    "state = np.random.RandomState(12345)\n",
    "inv_rand_matrix=state.normal(size=(features.shape[1],features.shape[1]))\n",
    "inv_rand_matrix"
   ]
  },
  {
   "cell_type": "code",
   "execution_count": null,
   "metadata": {},
   "outputs": [],
   "source": []
  },
  {
   "cell_type": "code",
   "execution_count": 10,
   "metadata": {},
   "outputs": [],
   "source": [
    "# Новая кодированная матрица \n",
    "crypt_features=features.dot(inv_rand_matrix)"
   ]
  },
  {
   "cell_type": "code",
   "execution_count": 103,
   "metadata": {},
   "outputs": [
    {
     "data": {
      "text/html": [
       "<div>\n",
       "<style scoped>\n",
       "    .dataframe tbody tr th:only-of-type {\n",
       "        vertical-align: middle;\n",
       "    }\n",
       "\n",
       "    .dataframe tbody tr th {\n",
       "        vertical-align: top;\n",
       "    }\n",
       "\n",
       "    .dataframe thead th {\n",
       "        text-align: right;\n",
       "    }\n",
       "</style>\n",
       "<table border=\"1\" class=\"dataframe\">\n",
       "  <thead>\n",
       "    <tr style=\"text-align: right;\">\n",
       "      <th></th>\n",
       "      <th>0</th>\n",
       "      <th>1</th>\n",
       "      <th>2</th>\n",
       "      <th>3</th>\n",
       "    </tr>\n",
       "  </thead>\n",
       "  <tbody>\n",
       "    <tr>\n",
       "      <td>0</td>\n",
       "      <td>-27521.368184</td>\n",
       "      <td>7292.064854</td>\n",
       "      <td>-30243.324438</td>\n",
       "      <td>-25746.750120</td>\n",
       "    </tr>\n",
       "    <tr>\n",
       "      <td>1</td>\n",
       "      <td>-21106.798935</td>\n",
       "      <td>5604.351776</td>\n",
       "      <td>-23188.397131</td>\n",
       "      <td>-19724.670906</td>\n",
       "    </tr>\n",
       "    <tr>\n",
       "      <td>2</td>\n",
       "      <td>-11669.395418</td>\n",
       "      <td>3101.173149</td>\n",
       "      <td>-12819.025521</td>\n",
       "      <td>-10899.762127</td>\n",
       "    </tr>\n",
       "    <tr>\n",
       "      <td>3</td>\n",
       "      <td>-23118.873261</td>\n",
       "      <td>6116.672403</td>\n",
       "      <td>-25409.952579</td>\n",
       "      <td>-21647.967886</td>\n",
       "    </tr>\n",
       "    <tr>\n",
       "      <td>4</td>\n",
       "      <td>-14491.068071</td>\n",
       "      <td>3843.704127</td>\n",
       "      <td>-15922.136949</td>\n",
       "      <td>-13547.242932</td>\n",
       "    </tr>\n",
       "    <tr>\n",
       "      <td>...</td>\n",
       "      <td>...</td>\n",
       "      <td>...</td>\n",
       "      <td>...</td>\n",
       "      <td>...</td>\n",
       "    </tr>\n",
       "    <tr>\n",
       "      <td>4995</td>\n",
       "      <td>-19807.211588</td>\n",
       "      <td>5247.944949</td>\n",
       "      <td>-21766.195337</td>\n",
       "      <td>-18532.734111</td>\n",
       "    </tr>\n",
       "    <tr>\n",
       "      <td>4996</td>\n",
       "      <td>-29061.837078</td>\n",
       "      <td>7694.737103</td>\n",
       "      <td>-31939.324807</td>\n",
       "      <td>-27200.912915</td>\n",
       "    </tr>\n",
       "    <tr>\n",
       "      <td>4997</td>\n",
       "      <td>-18798.878440</td>\n",
       "      <td>4975.881230</td>\n",
       "      <td>-20660.631916</td>\n",
       "      <td>-17598.835314</td>\n",
       "    </tr>\n",
       "    <tr>\n",
       "      <td>4998</td>\n",
       "      <td>-18137.179321</td>\n",
       "      <td>4801.362940</td>\n",
       "      <td>-19932.481480</td>\n",
       "      <td>-16976.471149</td>\n",
       "    </tr>\n",
       "    <tr>\n",
       "      <td>4999</td>\n",
       "      <td>-22519.359418</td>\n",
       "      <td>5962.343095</td>\n",
       "      <td>-24748.752751</td>\n",
       "      <td>-21075.461476</td>\n",
       "    </tr>\n",
       "  </tbody>\n",
       "</table>\n",
       "<p>5000 rows × 4 columns</p>\n",
       "</div>"
      ],
      "text/plain": [
       "                 0            1             2             3\n",
       "0    -27521.368184  7292.064854 -30243.324438 -25746.750120\n",
       "1    -21106.798935  5604.351776 -23188.397131 -19724.670906\n",
       "2    -11669.395418  3101.173149 -12819.025521 -10899.762127\n",
       "3    -23118.873261  6116.672403 -25409.952579 -21647.967886\n",
       "4    -14491.068071  3843.704127 -15922.136949 -13547.242932\n",
       "...            ...          ...           ...           ...\n",
       "4995 -19807.211588  5247.944949 -21766.195337 -18532.734111\n",
       "4996 -29061.837078  7694.737103 -31939.324807 -27200.912915\n",
       "4997 -18798.878440  4975.881230 -20660.631916 -17598.835314\n",
       "4998 -18137.179321  4801.362940 -19932.481480 -16976.471149\n",
       "4999 -22519.359418  5962.343095 -24748.752751 -21075.461476\n",
       "\n",
       "[5000 rows x 4 columns]"
      ]
     },
     "execution_count": 103,
     "metadata": {},
     "output_type": "execute_result"
    }
   ],
   "source": [
    "crypt_features"
   ]
  },
  {
   "cell_type": "code",
   "execution_count": 104,
   "metadata": {},
   "outputs": [
    {
     "data": {
      "text/html": [
       "<div>\n",
       "<style scoped>\n",
       "    .dataframe tbody tr th:only-of-type {\n",
       "        vertical-align: middle;\n",
       "    }\n",
       "\n",
       "    .dataframe tbody tr th {\n",
       "        vertical-align: top;\n",
       "    }\n",
       "\n",
       "    .dataframe thead th {\n",
       "        text-align: right;\n",
       "    }\n",
       "</style>\n",
       "<table border=\"1\" class=\"dataframe\">\n",
       "  <thead>\n",
       "    <tr style=\"text-align: right;\">\n",
       "      <th></th>\n",
       "      <th>Пол</th>\n",
       "      <th>Возраст</th>\n",
       "      <th>Зарплата</th>\n",
       "      <th>Члены семьи</th>\n",
       "    </tr>\n",
       "  </thead>\n",
       "  <tbody>\n",
       "    <tr>\n",
       "      <td>0</td>\n",
       "      <td>1</td>\n",
       "      <td>41.0</td>\n",
       "      <td>49600.0</td>\n",
       "      <td>1</td>\n",
       "    </tr>\n",
       "    <tr>\n",
       "      <td>1</td>\n",
       "      <td>0</td>\n",
       "      <td>46.0</td>\n",
       "      <td>38000.0</td>\n",
       "      <td>1</td>\n",
       "    </tr>\n",
       "    <tr>\n",
       "      <td>2</td>\n",
       "      <td>0</td>\n",
       "      <td>29.0</td>\n",
       "      <td>21000.0</td>\n",
       "      <td>0</td>\n",
       "    </tr>\n",
       "    <tr>\n",
       "      <td>3</td>\n",
       "      <td>0</td>\n",
       "      <td>21.0</td>\n",
       "      <td>41700.0</td>\n",
       "      <td>2</td>\n",
       "    </tr>\n",
       "    <tr>\n",
       "      <td>4</td>\n",
       "      <td>1</td>\n",
       "      <td>28.0</td>\n",
       "      <td>26100.0</td>\n",
       "      <td>0</td>\n",
       "    </tr>\n",
       "    <tr>\n",
       "      <td>...</td>\n",
       "      <td>...</td>\n",
       "      <td>...</td>\n",
       "      <td>...</td>\n",
       "      <td>...</td>\n",
       "    </tr>\n",
       "    <tr>\n",
       "      <td>4995</td>\n",
       "      <td>0</td>\n",
       "      <td>28.0</td>\n",
       "      <td>35700.0</td>\n",
       "      <td>2</td>\n",
       "    </tr>\n",
       "    <tr>\n",
       "      <td>4996</td>\n",
       "      <td>0</td>\n",
       "      <td>34.0</td>\n",
       "      <td>52400.0</td>\n",
       "      <td>1</td>\n",
       "    </tr>\n",
       "    <tr>\n",
       "      <td>4997</td>\n",
       "      <td>0</td>\n",
       "      <td>20.0</td>\n",
       "      <td>33900.0</td>\n",
       "      <td>2</td>\n",
       "    </tr>\n",
       "    <tr>\n",
       "      <td>4998</td>\n",
       "      <td>1</td>\n",
       "      <td>22.0</td>\n",
       "      <td>32700.0</td>\n",
       "      <td>3</td>\n",
       "    </tr>\n",
       "    <tr>\n",
       "      <td>4999</td>\n",
       "      <td>1</td>\n",
       "      <td>28.0</td>\n",
       "      <td>40600.0</td>\n",
       "      <td>1</td>\n",
       "    </tr>\n",
       "  </tbody>\n",
       "</table>\n",
       "<p>5000 rows × 4 columns</p>\n",
       "</div>"
      ],
      "text/plain": [
       "      Пол  Возраст  Зарплата  Члены семьи\n",
       "0       1     41.0   49600.0            1\n",
       "1       0     46.0   38000.0            1\n",
       "2       0     29.0   21000.0            0\n",
       "3       0     21.0   41700.0            2\n",
       "4       1     28.0   26100.0            0\n",
       "...   ...      ...       ...          ...\n",
       "4995    0     28.0   35700.0            2\n",
       "4996    0     34.0   52400.0            1\n",
       "4997    0     20.0   33900.0            2\n",
       "4998    1     22.0   32700.0            3\n",
       "4999    1     28.0   40600.0            1\n",
       "\n",
       "[5000 rows x 4 columns]"
      ]
     },
     "execution_count": 104,
     "metadata": {},
     "output_type": "execute_result"
    }
   ],
   "source": [
    "# пример матрицы признаков X\n",
    "features"
   ]
  },
  {
   "cell_type": "code",
   "execution_count": 105,
   "metadata": {},
   "outputs": [
    {
     "data": {
      "text/html": [
       "<div>\n",
       "<style scoped>\n",
       "    .dataframe tbody tr th:only-of-type {\n",
       "        vertical-align: middle;\n",
       "    }\n",
       "\n",
       "    .dataframe tbody tr th {\n",
       "        vertical-align: top;\n",
       "    }\n",
       "\n",
       "    .dataframe thead th {\n",
       "        text-align: right;\n",
       "    }\n",
       "</style>\n",
       "<table border=\"1\" class=\"dataframe\">\n",
       "  <thead>\n",
       "    <tr style=\"text-align: right;\">\n",
       "      <th></th>\n",
       "      <th>0</th>\n",
       "      <th>1</th>\n",
       "      <th>2</th>\n",
       "      <th>3</th>\n",
       "    </tr>\n",
       "  </thead>\n",
       "  <tbody>\n",
       "    <tr>\n",
       "      <td>0</td>\n",
       "      <td>-27521.368184</td>\n",
       "      <td>7292.064854</td>\n",
       "      <td>-30243.324438</td>\n",
       "      <td>-25746.750120</td>\n",
       "    </tr>\n",
       "    <tr>\n",
       "      <td>1</td>\n",
       "      <td>-21106.798935</td>\n",
       "      <td>5604.351776</td>\n",
       "      <td>-23188.397131</td>\n",
       "      <td>-19724.670906</td>\n",
       "    </tr>\n",
       "    <tr>\n",
       "      <td>2</td>\n",
       "      <td>-11669.395418</td>\n",
       "      <td>3101.173149</td>\n",
       "      <td>-12819.025521</td>\n",
       "      <td>-10899.762127</td>\n",
       "    </tr>\n",
       "    <tr>\n",
       "      <td>3</td>\n",
       "      <td>-23118.873261</td>\n",
       "      <td>6116.672403</td>\n",
       "      <td>-25409.952579</td>\n",
       "      <td>-21647.967886</td>\n",
       "    </tr>\n",
       "    <tr>\n",
       "      <td>4</td>\n",
       "      <td>-14491.068071</td>\n",
       "      <td>3843.704127</td>\n",
       "      <td>-15922.136949</td>\n",
       "      <td>-13547.242932</td>\n",
       "    </tr>\n",
       "    <tr>\n",
       "      <td>...</td>\n",
       "      <td>...</td>\n",
       "      <td>...</td>\n",
       "      <td>...</td>\n",
       "      <td>...</td>\n",
       "    </tr>\n",
       "    <tr>\n",
       "      <td>4995</td>\n",
       "      <td>-19807.211588</td>\n",
       "      <td>5247.944949</td>\n",
       "      <td>-21766.195337</td>\n",
       "      <td>-18532.734111</td>\n",
       "    </tr>\n",
       "    <tr>\n",
       "      <td>4996</td>\n",
       "      <td>-29061.837078</td>\n",
       "      <td>7694.737103</td>\n",
       "      <td>-31939.324807</td>\n",
       "      <td>-27200.912915</td>\n",
       "    </tr>\n",
       "    <tr>\n",
       "      <td>4997</td>\n",
       "      <td>-18798.878440</td>\n",
       "      <td>4975.881230</td>\n",
       "      <td>-20660.631916</td>\n",
       "      <td>-17598.835314</td>\n",
       "    </tr>\n",
       "    <tr>\n",
       "      <td>4998</td>\n",
       "      <td>-18137.179321</td>\n",
       "      <td>4801.362940</td>\n",
       "      <td>-19932.481480</td>\n",
       "      <td>-16976.471149</td>\n",
       "    </tr>\n",
       "    <tr>\n",
       "      <td>4999</td>\n",
       "      <td>-22519.359418</td>\n",
       "      <td>5962.343095</td>\n",
       "      <td>-24748.752751</td>\n",
       "      <td>-21075.461476</td>\n",
       "    </tr>\n",
       "  </tbody>\n",
       "</table>\n",
       "<p>5000 rows × 4 columns</p>\n",
       "</div>"
      ],
      "text/plain": [
       "                 0            1             2             3\n",
       "0    -27521.368184  7292.064854 -30243.324438 -25746.750120\n",
       "1    -21106.798935  5604.351776 -23188.397131 -19724.670906\n",
       "2    -11669.395418  3101.173149 -12819.025521 -10899.762127\n",
       "3    -23118.873261  6116.672403 -25409.952579 -21647.967886\n",
       "4    -14491.068071  3843.704127 -15922.136949 -13547.242932\n",
       "...            ...          ...           ...           ...\n",
       "4995 -19807.211588  5247.944949 -21766.195337 -18532.734111\n",
       "4996 -29061.837078  7694.737103 -31939.324807 -27200.912915\n",
       "4997 -18798.878440  4975.881230 -20660.631916 -17598.835314\n",
       "4998 -18137.179321  4801.362940 -19932.481480 -16976.471149\n",
       "4999 -22519.359418  5962.343095 -24748.752751 -21075.461476\n",
       "\n",
       "[5000 rows x 4 columns]"
      ]
     },
     "execution_count": 105,
     "metadata": {},
     "output_type": "execute_result"
    }
   ],
   "source": [
    "# пример преобразованной матрицы признаков B\n",
    "crypt_features"
   ]
  },
  {
   "cell_type": "markdown",
   "metadata": {},
   "source": [
    "Умножая значения одних и тех же весов на признаки разных матриц  мы получим значения отличные друг от друга"
   ]
  },
  {
   "cell_type": "markdown",
   "metadata": {},
   "source": [
    "**Ответ:** при умножении признаков $X$ на обратимую матрицу $P$ мы имеем новую матрицу признаков $B$. Качество линейной регрессии после проверки $B$ измениться, т.е метрика качества $R^2$ будет сильно другой. А точнее будет хуже. Но если принять матрицу признаков $B$, как обучающую, то модель обучится и покажет тот же результат $R^2$, что и для признаков $X$  \n"
   ]
  },
  {
   "cell_type": "markdown",
   "metadata": {},
   "source": [
    "**Обоснование:** в нашей задаче мы предсказываем целевой признак $y=W1*X1+W2*X2...Wn*Xn+W0$, где n-количество признаков. А если мы подставим вместо значений $X$ значения новой матрицы $B$, то получим значения новых предсказаний $y'$: $y'=W1*В1+W2*В2...Wn*Вn+W0$, и при старых весах $W$ значения $y!=y'$. Для того чтобы получить $y=y'$ надо получить новые веса $W'$, т.е обучить матрицу признаков $B$ заново! "
   ]
  },
  {
   "cell_type": "markdown",
   "metadata": {},
   "source": [
    "## 3. Алгоритм преобразования"
   ]
  },
  {
   "cell_type": "markdown",
   "metadata": {},
   "source": [
    "**Алгоритм**\n",
    "\n",
    "После получения новой матрицы B, перед процессом функцией predict выполним действие: $X=P^{-1}*B$"
   ]
  },
  {
   "cell_type": "markdown",
   "metadata": {},
   "source": [
    "**Обоснование**\n",
    "\n",
    "Кодирование признаков происходит умножением $X*P=B$, где  $X$-матрица признаков, $P$-матрица, на которую умножаются признаки (обратимая матрица),$B$-новая матрица.\n",
    "Умножим обе части уравнения на $Р^{-1}$ (обратную матрицу $P$). Получим $X*Р^{-1}*P=B*Р^{-1}$. Зная свойство обратных матриц $Р^{-1}*P=E$, где Е- это единичная матрица и зная свойство единичной матрицы $E*X=X$, получаем, что $X=P^{-1}*B$"
   ]
  },
  {
   "cell_type": "markdown",
   "metadata": {},
   "source": [
    "## 4. Проверка алгоритма"
   ]
  },
  {
   "cell_type": "code",
   "execution_count": 106,
   "metadata": {},
   "outputs": [],
   "source": [
    "# Класс модели линейной регрессии\n",
    "class LineRegression():\n",
    "    #Функция обучения\n",
    "    def fit(self,train_features,train_target):\n",
    "       \n",
    "        X = np.concatenate((np.ones((train_features.shape[0], 1)), train_features), axis=1) # Добавляем столбец с 1\n",
    "        y=train_target \n",
    "        w=np.linalg.inv(X.T.dot(X)).dot(X.T).dot(y) # сама формула ЛР\n",
    "       \n",
    "        self.w=w[1:] # веса признаков\n",
    "        self.w0=w[0] # регрессор константа\n",
    "    \n",
    "    #Функция предсказания    \n",
    "    def predict(self,test_features):\n",
    "        return test_features.dot(self.w)+self.w0 # признак \n",
    "     "
   ]
  },
  {
   "cell_type": "code",
   "execution_count": 107,
   "metadata": {},
   "outputs": [
    {
     "name": "stdout",
     "output_type": "stream",
     "text": [
      "0.4249455028666801\n"
     ]
    }
   ],
   "source": [
    "# Модель линейной регрессии для features без кодирования\n",
    "model=LineRegression()\n",
    "model.fit(features,target)\n",
    "prediction=model.predict(features)\n",
    "\n",
    "MSE=r2_score(target,prediction)\n",
    "print(MSE)"
   ]
  },
  {
   "cell_type": "code",
   "execution_count": 108,
   "metadata": {},
   "outputs": [
    {
     "name": "stdout",
     "output_type": "stream",
     "text": [
      "-488014.415724385\n"
     ]
    }
   ],
   "source": [
    "# Модель линейной регрессии для crypt_features (кодированная) без обучения \n",
    "model=LineRegression()\n",
    "model.fit(features,target)\n",
    "prediction_crypt_1=model.predict(crypt_features)\n",
    "MSE_crypt_1=r2_score(target,prediction_crypt_1)\n",
    "print(MSE_crypt_1)"
   ]
  },
  {
   "cell_type": "code",
   "execution_count": 109,
   "metadata": {},
   "outputs": [
    {
     "name": "stdout",
     "output_type": "stream",
     "text": [
      "0.4249455028666307\n"
     ]
    }
   ],
   "source": [
    "# Модель линейной регрессии для crypt_features (кодированная) с обучением \n",
    "model=LineRegression()\n",
    "model.fit(crypt_features,target)\n",
    "prediction_crypt_2=model.predict(crypt_features)\n",
    "MSE_crypt_2=r2_score(target,prediction_crypt_2)\n",
    "print(MSE_crypt_2)"
   ]
  },
  {
   "cell_type": "markdown",
   "metadata": {},
   "source": [
    "#### Реализация алгоритма преобразования"
   ]
  },
  {
   "cell_type": "code",
   "execution_count": 110,
   "metadata": {},
   "outputs": [],
   "source": [
    "P=inv_rand_matrix "
   ]
  },
  {
   "cell_type": "code",
   "execution_count": 111,
   "metadata": {},
   "outputs": [],
   "source": [
    "P_inv=np.linalg.inv(inv_rand_matrix) # делаем обратную матрицу от inv_rand_matrix"
   ]
  },
  {
   "cell_type": "code",
   "execution_count": 112,
   "metadata": {},
   "outputs": [
    {
     "data": {
      "text/plain": [
       "array([[ 1.00000000e+00,  7.06420537e-17, -1.76519409e-16,\n",
       "         1.82793194e-16],\n",
       "       [-3.46993212e-16,  1.00000000e+00, -1.06652082e-16,\n",
       "        -5.90667247e-16],\n",
       "       [-9.84661340e-18, -7.18470874e-17,  1.00000000e+00,\n",
       "         2.89856525e-16],\n",
       "       [-1.26475677e-17, -1.31463187e-16,  2.36917125e-16,\n",
       "         1.00000000e+00]])"
      ]
     },
     "execution_count": 112,
     "metadata": {},
     "output_type": "execute_result"
    }
   ],
   "source": [
    "ones_diag_matrix=P.dot(P_inv) # проверяем, что при их умножении будет единичная матрица\n",
    "ones_diag_matrix"
   ]
  },
  {
   "cell_type": "code",
   "execution_count": 113,
   "metadata": {},
   "outputs": [],
   "source": [
    "decrypt_features=crypt_features.dot(P_inv) # сам алгоритм преобразования"
   ]
  },
  {
   "cell_type": "code",
   "execution_count": 114,
   "metadata": {},
   "outputs": [
    {
     "name": "stdout",
     "output_type": "stream",
     "text": [
      "0.4249455028666862\n"
     ]
    }
   ],
   "source": [
    "model=LineRegression()\n",
    "model.fit(features,target)\n",
    "prediction_decrypt=model.predict(decrypt_features)\n",
    "MSE_decrypt=r2_score(target,prediction_decrypt)\n",
    "print(MSE_decrypt)"
   ]
  },
  {
   "cell_type": "markdown",
   "metadata": {},
   "source": [
    "### Сравнение качества моделей"
   ]
  },
  {
   "cell_type": "code",
   "execution_count": 115,
   "metadata": {},
   "outputs": [
    {
     "data": {
      "text/html": [
       "<div>\n",
       "<style scoped>\n",
       "    .dataframe tbody tr th:only-of-type {\n",
       "        vertical-align: middle;\n",
       "    }\n",
       "\n",
       "    .dataframe tbody tr th {\n",
       "        vertical-align: top;\n",
       "    }\n",
       "\n",
       "    .dataframe thead th {\n",
       "        text-align: right;\n",
       "    }\n",
       "</style>\n",
       "<table border=\"1\" class=\"dataframe\">\n",
       "  <thead>\n",
       "    <tr style=\"text-align: right;\">\n",
       "      <th></th>\n",
       "      <th>MSE</th>\n",
       "    </tr>\n",
       "  </thead>\n",
       "  <tbody>\n",
       "    <tr>\n",
       "      <td>Без кодирования</td>\n",
       "      <td>0.424946</td>\n",
       "    </tr>\n",
       "    <tr>\n",
       "      <td>С кодированием и без переобучения</td>\n",
       "      <td>-488014.415724</td>\n",
       "    </tr>\n",
       "    <tr>\n",
       "      <td>С кодированием и переобучением</td>\n",
       "      <td>0.424946</td>\n",
       "    </tr>\n",
       "    <tr>\n",
       "      <td>С преобразованием</td>\n",
       "      <td>0.424946</td>\n",
       "    </tr>\n",
       "  </tbody>\n",
       "</table>\n",
       "</div>"
      ],
      "text/plain": [
       "                                             MSE\n",
       "Без кодирования                         0.424946\n",
       "С кодированием и без переобучения -488014.415724\n",
       "С кодированием и переобучением          0.424946\n",
       "С преобразованием                       0.424946"
      ]
     },
     "execution_count": 115,
     "metadata": {},
     "output_type": "execute_result"
    }
   ],
   "source": [
    "rezume=[MSE,MSE_crypt_1,MSE_crypt_2,MSE_decrypt]\n",
    "df_rezume=pd.DataFrame(rezume,index=['Без кодирования','С кодированием и без переобучения','С кодированием и переобучением','С преобразованием'])\n",
    "df_rezume.set_axis(['MSE'],axis='columns',inplace=True)\n",
    "df_rezume"
   ]
  },
  {
   "cell_type": "markdown",
   "metadata": {},
   "source": [
    "Модели \"Без кодирования\",\"С кодированием и переобучением\" и \"С преобразованием\t\" дали одинаковый результат. Алгоритм преобразования работает!"
   ]
  },
  {
   "cell_type": "code",
   "execution_count": null,
   "metadata": {},
   "outputs": [],
   "source": []
  }
 ],
 "metadata": {
  "kernelspec": {
   "display_name": "Python 3",
   "language": "python",
   "name": "python3"
  },
  "language_info": {
   "codemirror_mode": {
    "name": "ipython",
    "version": 3
   },
   "file_extension": ".py",
   "mimetype": "text/x-python",
   "name": "python",
   "nbconvert_exporter": "python",
   "pygments_lexer": "ipython3",
   "version": "3.7.6"
  }
 },
 "nbformat": 4,
 "nbformat_minor": 2
}
